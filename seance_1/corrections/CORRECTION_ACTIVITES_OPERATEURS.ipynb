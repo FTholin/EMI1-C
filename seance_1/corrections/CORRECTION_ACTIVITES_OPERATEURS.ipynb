{
 "cells": [
  {
   "cell_type": "markdown",
   "id": "aa2e0209",
   "metadata": {},
   "source": [
    "# Les opérateurs\n",
    "\n",
    "## Vue d'ensemble\n",
    "\n",
    "Dans cette leçon, vous allez apprendre à:\n",
    "\n",
    "\n",
    "- à effectuer des opérations mathématiques de base sur des variables et des valeurs en utilisant des symboles courants.\n",
    "- attribuer des valeurs aux variables et/ou effectuer des opérations mathématiques de base en utilisant des opérations abrégées.\n",
    "- comparer deux valeurs et/ou variables l'une par rapport à l'autre pour renvoyer un vrai/faux.\n",
    "utiliser des opérateurs logiques (et, ou, et non).\n",
    "\n",
    "Dans la leçon précédente, vous avez appris comment créer et définir des variables, mais pas ce que vous pouvez faire avec elles au-delà. Dans cette leçon, vous apprendrez à modifier les variables grâce à la puissance des mathématiques, à utiliser des méthodes d'affectation abrégées et à comparer des variables et des valeurs. Enfin, nous verrons comment utiliser les opérateurs logiques \"et\", \"ou\" et \"non\".\n",
    "\n",
    "\n",
    "## Opérations mathématiques\n",
    "\n",
    "À la base, les ordinateurs sont des calculatrices sophistiquées. Il est donc utile d'apprendre à effectuer des opérations mathématiques de base dès le début de votre développement linguistique.\n",
    "\n",
    "L'addition et la soustraction fonctionnent exactement comme vous vous y attendez. `a = 2 + 3` stockera `5` dans la variable `a`. Vous pouvez également utiliser ces variables comme partie du calcul (ou tout le calcul).\n",
    "\n",
    "```c\n",
    "int a = 2;\n",
    "int b = 3;\n",
    "int c = a + b;\n",
    "```\n",
    "\n",
    "Ces mêmes principes fondamentaux des mathématiques sont valables pour la soustraction, la multiplication et la division.\n",
    "\n",
    "### À vous de jouer ! 🤠\n",
    "\n",
    "1. Nous pouvons maintenant ajouter un peu de saveur à notre connaissance des variables. Le programme ci-dessous comporte déjà la déclaration des variables et certaines valeurs, ainsi que la sortie permettant d'afficher les résultats finaux.\n",
    "\n",
    "    - Votre tâche consiste à modifier les valeurs stockées dans les variables en utilisant des symboles mathématiques de base, compte tenu des changements.\n",
    "\n",
    "    - C'était une bonne semaine, vous avez vendu 200 livres de plus ! Mettez à jour la variable `livres_vendus` en conséquence.\n",
    "\n",
    "\n",
    "2. Maintenant que vous disposez du nombre de livres vendus mis à jour, calculez la valeur totale des ventes.\n",
    "\n",
    "\n",
    "3. Votre éditeur prend la moitié du total des ventes dans le cadre de sa commission.\n",
    "    - Mettez à jour votre `valeur_total_ventes` en conséquence (vous pouvez le faire avec une multiplication ou une division dans le monde réel, mais pour la pratique, veuillez utiliser la division).\n",
    "    \n",
    "  "
   ]
  },
  {
   "cell_type": "code",
   "execution_count": 1,
   "id": "8bb0d492",
   "metadata": {},
   "outputs": [
    {
     "name": "stderr",
     "output_type": "stream",
     "text": [
      "/var/folders/r3/9pc1yxj96rnflb41fjbhhyhh0000gn/T/tmpqhpsu7ee.c:7:12: warning: unused variable 'prix_livre' [-Wunused-variable]\n",
      "    double prix_livre = 9.99 ;\n",
      "           ^\n",
      "/var/folders/r3/9pc1yxj96rnflb41fjbhhyhh0000gn/T/tmpqhpsu7ee.c:14:88: warning: variable 'valeur_total_ventes' is uninitialized when used here [-Wuninitialized]\n",
      "    printf(\"Vous avez vendu %d livres et votre recette est de $%.2f\\n\", livres_vendus, valeur_total_ventes) ;\n",
      "                                                                                       ^~~~~~~~~~~~~~~~~~~\n",
      "/var/folders/r3/9pc1yxj96rnflb41fjbhhyhh0000gn/T/tmpqhpsu7ee.c:8:31: note: initialize the variable 'valeur_total_ventes' to silence this warning\n",
      "    double valeur_total_ventes ;\n",
      "                              ^\n",
      "                               = 0.0\n",
      "2 warnings generated.\n"
     ]
    },
    {
     "name": "stdout",
     "output_type": "stream",
     "text": [
      "Vous avez vendu 100 livres et votre recette est de $0.00\n"
     ]
    }
   ],
   "source": [
    "#include <stdio.h>\n",
    "\n",
    "int main() {\n",
    "  \n",
    "    // Variables définies pour vous, ne pas changer ici\n",
    "    int livres_vendus = 100 ;\n",
    "    double prix_livre = 9.99 ;\n",
    "    double valeur_total_ventes ;\n",
    "\n",
    "    // Apportez vos modifications ici\n",
    "\n",
    "\n",
    "    // Affichage des variables, inutile de la modifier\n",
    "    printf(\"Vous avez vendu %d livres et votre recette est de $%.2f\\n\", livres_vendus, valeur_total_ventes) ;\n",
    "}"
   ]
  },
  {
   "cell_type": "code",
   "execution_count": 2,
   "id": "c66b2d2d",
   "metadata": {},
   "outputs": [
    {
     "name": "stdout",
     "output_type": "stream",
     "text": [
      "Vous avez vendu 300 livres et votre recette est de $1498.50\n"
     ]
    }
   ],
   "source": [
    "#include <stdio.h>\n",
    "\n",
    "int main() {\n",
    "  \n",
    "    // Variables définies pour vous, ne pas changer ici\n",
    "    int livres_vendus = 100 ;\n",
    "    double prix_livre = 9.99 ;\n",
    "    double valeur_total_ventes ;\n",
    "\n",
    "    // Apportez vos modifications ici\n",
    "    livres_vendus = livres_vendus + 200;\n",
    "    valeur_total_ventes = prix_livre * livres_vendus;\n",
    "    valeur_total_ventes = valeur_total_ventes / 2;\n",
    "\n",
    "    // Affichage des variables, inutile de la modifier\n",
    "    printf(\"Vous avez vendu %d livres et votre recette est de $%.2f\\n\", livres_vendus, valeur_total_ventes) ;\n",
    "}"
   ]
  },
  {
   "cell_type": "markdown",
   "id": "f84da50f",
   "metadata": {},
   "source": [
    "## Modulo\n",
    "\n",
    "Vous avez peut-être déjà rencontré le **modulo**, symbolisé par le symbole du pourcentage `%`. Si ce n'est pas le cas, ou pour rappel, le modulo effectue une division mais au lieu de vous donner le nombre de fois que le dénominateur entre dans le numérateur, il vous **donne le reste après la division**.\n",
    "\n",
    "Par exemple, si vous prenez `10 / 3`, vous obtenez `3` et il reste `1`. Si vous vouliez simplement obtenir le reste sans vous soucier de l'autre partie, vous feriez `10 % 3`. Vous obtiendrez alors `1`.\n",
    "\n",
    "Une utilisation courante du modulo consiste à déterminer si un nombre entier est pair ou impair. Si nous disposons d'un nombre entier, x, et que nous ne savons pas s'il est pair ou impair, nous pouvons utiliser la modulo pour connaître le reste. Si le résultat est 1, x est impair, sinon il est pair.\n",
    "\n",
    "```c\n",
    "#include <stdio.h>\n",
    "\n",
    "int main() {\n",
    "    int jours = 30;\n",
    "    // Ici Nous partons du principe que Lundi correspond à 0, Mardi à 1, ..., Dimanche à 7\n",
    "    int jour_semaine = jours % 7;\n",
    "    printf(\"%d\\n\", jour_semaine);\n",
    "    return 0;\n",
    "}\n",
    "```"
   ]
  },
  {
   "cell_type": "markdown",
   "id": "105f138a",
   "metadata": {},
   "source": [
    "## Incrément et décrément\n",
    "\n",
    "Le langage C dispose de plusieurs raccourcis que vous pouvez utiliser pour vous faciliter la vie. \n",
    "\n",
    "Par exemple, il est très courant dans une boucle d'avoir un compteur que vous voulez **incrémenter** (ajouter 1) ou **décrémenter** (soustraire 1) à chaque passage.\n",
    "\n",
    "Le C vous permet de le faire en utilisant un symbole double, par exemple :\n",
    "\n",
    "```c\n",
    "int a = 1 ;\n",
    "a++ ;\n",
    "```\n",
    "\n",
    "La valeur de `a` serait alors de `2`. \n",
    "\n",
    "L'abréviation pour décrémenter est `--` au lieu de `++`. \n",
    "\n",
    "Donc, si nous voulions décrémenter `a`, ce serait :\n",
    "\n",
    "```c\n",
    "a-- ;\n",
    "```\n",
    "\n",
    "### À vous de jouer ! 🤠\n",
    "\n",
    "1. Décrémentez `m`.\n",
    "\n",
    "2. Faites maintenant l'inverse  pour `n`.\n"
   ]
  },
  {
   "cell_type": "code",
   "execution_count": 3,
   "id": "a576ccdb",
   "metadata": {},
   "outputs": [
    {
     "name": "stdout",
     "output_type": "stream",
     "text": [
      "m = 10\n",
      "n = 13\n"
     ]
    }
   ],
   "source": [
    "#include <stdio.h>\n",
    "\n",
    "int main() {\n",
    "  int n = 13;\n",
    "  int m = 10;\n",
    "  \n",
    "  printf(\"m = %d\\n\", m);\n",
    "  printf(\"n = %d\\n\", n);\n",
    "}"
   ]
  },
  {
   "cell_type": "code",
   "execution_count": 4,
   "id": "e9d66bb1",
   "metadata": {},
   "outputs": [
    {
     "name": "stdout",
     "output_type": "stream",
     "text": [
      "m = 9\n",
      "n = 14\n"
     ]
    }
   ],
   "source": [
    "#include <stdio.h>\n",
    "\n",
    "int main() {\n",
    "  int n = 13;\n",
    "  int m = 10;\n",
    "\n",
    "  m--;\n",
    "  n++;\n",
    "  \n",
    "  printf(\"m = %d\\n\", m);\n",
    "  printf(\"n = %d\\n\", n);\n",
    "}"
   ]
  },
  {
   "cell_type": "markdown",
   "id": "0f3ccd6a",
   "metadata": {},
   "source": [
    "## Affectation\n",
    "\n",
    "C'est une chose d'effectuer toutes ces opérations, mais si les résultats sont jetés dès la fin de l'exécution de l'instruction, l'ensemble du processus a une utilité limitée. Ce dont nous avons besoin, c'est d'un moyen d'attribuer des valeurs aux variables. Nous avons déjà vu la manière de base de le faire en utilisant `=`, mais le C offre quelques astuces supplémentaires pour l'affectation.\n",
    "\n",
    "Chacun des symboles mathématiques de base que vous avez appris dans cette leçon peut être réalisé en C avec un raccourci.\n",
    "\n",
    "Examinons un exemple de deux façons d'écrire des additions simples qui vous donneraient le même résultat final :\n",
    "\n",
    "```c\n",
    "int a = 2;\n",
    "int b = 3;\n",
    "a = a + b;\n",
    "```\n",
    "\n",
    "Cela pourrait également être écrit comme suit\n",
    "\n",
    "```c\n",
    "int a = 2 ;\n",
    "int b = 3 ;\n",
    "a += b ;\n",
    "\n",
    "```\n",
    "\n",
    "\n",
    "Remarquez que le C nous permet d'utiliser `+=` comme raccourci pour ajouter quelque chose à la valeur de départ d'une variable. \n",
    "\n",
    "Vous pouvez utiliser ce même raccourci avec `-=`, `*=`, `/=` et `%=` pour la soustraction, la multiplication, la division et le modulo, respectivement.\n",
    "\n",
    "\n",
    "### À vous de jouer ! 🤠\n",
    "\n",
    "1. Dans l'exemple, nous avons montré comment définir une variable sur elle-même plus une autre variable. Dans le bloc de code de ci-dessous , trouvez le total des pertes en multipliant les pertes par `minutes_serveur_hs` en utilisant la méthode abrégée.\n",
    "\n",
    "2. Vous découvrez que les pertes calculées  étaient beaucoup trop élevées, en fait, elles ont été estimées à deux fois ce qu'elles sont en réalité ! Mettez à jour vos pertes pour qu'elles soient la moitié de ce que vous venez de calculer à l'étape précédente (toujours en utilisant la méthode abrégée).\n",
    "\n"
   ]
  },
  {
   "cell_type": "code",
   "execution_count": 5,
   "id": "d90a565e",
   "metadata": {},
   "outputs": [
    {
     "name": "stderr",
     "output_type": "stream",
     "text": [
      "/var/folders/r3/9pc1yxj96rnflb41fjbhhyhh0000gn/T/tmpfm0yc0ag.c:5:7: warning: unused variable 'minutes_serveur_hs' [-Wunused-variable]\n",
      "  int minutes_serveur_hs = 5 ;\n",
      "      ^\n",
      "1 warning generated.\n"
     ]
    },
    {
     "name": "stdout",
     "output_type": "stream",
     "text": [
      "Perte totale : $500.95\n"
     ]
    }
   ],
   "source": [
    "#include <stdio.h>\n",
    "\n",
    "int main() {\n",
    "  \n",
    "  int minutes_serveur_hs = 5 ;\n",
    "  double pertes = 500.95 ;\n",
    "\n",
    "\n",
    "  printf(\"Perte totale : $%.2f\\n\", pertes) ;\n",
    "}"
   ]
  },
  {
   "cell_type": "code",
   "execution_count": 6,
   "id": "e1e4e55b",
   "metadata": {},
   "outputs": [
    {
     "name": "stdout",
     "output_type": "stream",
     "text": [
      "Perte totale : $1252.38\n"
     ]
    }
   ],
   "source": [
    "#include <stdio.h>\n",
    "\n",
    "int main() {\n",
    "  \n",
    "  int minutes_serveur_hs = 5;\n",
    "  double pertes = 500.95;\n",
    "\n",
    " pertes *= minutes_serveur_hs;\n",
    " pertes /= 2;\n",
    "\n",
    "  printf(\"Perte totale : $%.2f\\n\", pertes);\n",
    "}"
   ]
  },
  {
   "cell_type": "markdown",
   "id": "c9ec51e7",
   "metadata": {},
   "source": [
    "## Comparaisons\n",
    "\n",
    "Vous n'avez pas encore appris les instructions qui vérifient et répondent à des valeurs vrai/faux (appelées booléennes), mais puisque nous parlons de symboles arithmétiques, nous voulions vous donner une introduction aux symboles utilisés pour ces vérifications.\n",
    "\n",
    "Vous pouvez vérifier si deux valeurs sont égales `==` (remarquez qu'il y a des doubles `=` pour vérifier l'équivalence plutôt que le symbole unique utilisé pour l'affectation), non égales `!=`, supérieures à `>`, supérieures ou égales à `>=`, inférieures à `<`, et inférieures ou égales à `<=`.\n",
    "\n",
    "À titre d'exemple, si vous vouliez exécuter un segment de code si a avait la même valeur que b, vous pourriez l'écrire comme suit :\n",
    "\n",
    "```c\n",
    "int a = 3 ;\n",
    "int b = 3 ;\n",
    "if (a == b) {\n",
    "  a++ ;\n",
    "}\n",
    "```\n",
    "\n",
    "Remarquez dans ce code qu'à la fin, `a` serait égal à `4`."
   ]
  },
  {
   "cell_type": "markdown",
   "id": "20ec3863",
   "metadata": {},
   "source": [
    "## Opérateurs logiques\n",
    "\n",
    "Vous ne devez pas vous contenter de vérifier une partie à la fois lorsque vous effectuez vos comparaisons. C vous permet de voir si deux parties ou plus sont vraies, si au moins une est vraie, ou si quelque chose n'est pas vrai. Nous avons déjà vu un exemple rapide avec `!=`, qui vérifie si le côté gauche n'est pas égal au côté droit, mais `!` devant n'importe quel booléen permet de vérifier si l'instruction n'est pas vraie. Vous en apprendrez davantage à ce sujet lorsque vous étudierez les instructions booléennes en général.\n",
    "\n",
    "Si vous voulez vérifier si deux ou plusieurs parties sont vraies, vous pouvez utiliser `&&` entre elles. Si vous voulez vérifier si l'une des parties est vraie, vous pouvez utiliser `||`. Pour voir les deux en action, voici un exemple trivial :\n",
    "\n",
    "```c\n",
    "int a = 2 ;\n",
    "int b = 3 ;\n",
    "if (a == b && a == 2) {\n",
    "  printf(\"les deux sont vrais\") ;\n",
    "}\n",
    "if (a == b || a == 2) {\n",
    "  printf(\"l'un ou les deux sont vrais\") ;\n",
    "}\n",
    "if ( !(a == b)) {\n",
    "  printf(\"ils ne sont pas égaux\") ;\n",
    "}\n",
    "```\n",
    "\n",
    "Dans cet exemple, seuls les deuxième et troisième énoncés seront évalués comme vrais. La deuxième déclaration sera vraie parce que `a` n'est pas égal à `b` mais est égal à `2`.\n",
    "\n",
    "N'oubliez pas qu'une seule des parties doit être évaluée comme vraie lorsque vous utilisez `||`. La dernière déclaration sera vraie parce que la vérification interne de l'égalité donnera un résultat faux et que nous prendrons l'opposé de ce résultat avec `!`.\n",
    "\n"
   ]
  },
  {
   "cell_type": "markdown",
   "id": "80c85128",
   "metadata": {},
   "source": [
    "## Ordre des opérations\n",
    "\n",
    "Le langage C ne traite pas les instructions que vous lui envoyez aveuglément, de gauche à droite. Il examine les instructions et applique des règles standard pour déterminer l'ordre dans lequel les instructions doivent être traitées. Par exemple, il effectuera une multiplication avant une addition.\n",
    "\n",
    "Il existe de nombreux autres symboles et opérations que vous apprendrez au fur et à mesure que vous progresserez dans votre connaissance du C, mais voici une liste de l'ordre des opérations que nous avons abordées dans cette leçon.\n",
    "\n",
    "En regardant le tableau ci-dessous, les opérations de priorité 1 seront effectuées en premier. Ensuite, les opérations de priorité 2, 3, et ainsi de suite seront traitées. Pour les opérateurs de même niveau de priorité, les opérations se déroulent de gauche à droite.\n",
    "\n",
    "```\n",
    "Priorité\tSymbole\n",
    "1       \t++\n",
    "1\t       --\n",
    "1           ()\n",
    "2\t       !\n",
    "2\t       (transtypage)\n",
    "3\t       *\n",
    "3\t       /\n",
    "3\t       %\n",
    "4\t       +\n",
    "4\t       -\n",
    "5\t       <, <=\n",
    "5\t       >, >=\n",
    "6\t       ==, !=\n",
    "7\t       &&\n",
    "8\t       ||\n",
    "9\t       Tous les opérateurs d'assignation\n",
    "```\n",
    "\n",
    "### À vous de jouer ! 🤠\n",
    "\n",
    "\n",
    "1. Le code de droite utilise l'ordre des opérations décrit ci-dessus, donc pour la variable `x`, il effectuera d'abord la multiplication puis l'addition. Cependant, nous voulons que l'addition ait lieu en premier.\n",
    "\n",
    "    - Veuillez corriger la ligne de code pour indiquer au compilateur de faire l'addition en premier pour l'évaluation en x.\n",
    "\n",
    "\n",
    "2. Maintenant, jetez un coup d'oeil à l'équation `y` et remarquez qu'elle fera la division en premier, et en tant qu'int, elle sera convertie en `0`, puis ajoutera `6`. Mettez à jour la ligne pour qu'elle fasse d'abord l'addition et qu'elle se résolve en `0` (en tant qu'int).\n",
    "\n"
   ]
  },
  {
   "cell_type": "code",
   "execution_count": 7,
   "id": "1275348a",
   "metadata": {},
   "outputs": [
    {
     "name": "stdout",
     "output_type": "stream",
     "text": [
      "x is: 17\n",
      "y is: 6\n"
     ]
    }
   ],
   "source": [
    "#include <stdio.h>\n",
    "\n",
    "int main() {\n",
    "  \n",
    "    int x;\n",
    "    int y;\n",
    "\n",
    "    x = 2 + 3 * 5;\n",
    "    y = 2 / 4 + 6;\n",
    "\n",
    "    printf(\"x is: %d\\n\", x);\n",
    "    printf(\"y is: %d\\n\", y);\n",
    "}"
   ]
  },
  {
   "cell_type": "code",
   "execution_count": null,
   "id": "211f8f38",
   "metadata": {},
   "outputs": [],
   "source": [
    "#include <stdio.h>\n",
    "\n",
    "int main() {\n",
    "  \n",
    "    int x;\n",
    "    int y;\n",
    "\n",
    "    x = (2 + 3) * 5;\n",
    "    y = 2 / (4 + 6);\n",
    "\n",
    "\n",
    "    printf(\"x is: %d\\n\", x);\n",
    "    printf(\"y is: %d\\n\", y);\n",
    "}"
   ]
  }
 ],
 "metadata": {
  "kernelspec": {
   "display_name": "C",
   "language": "c",
   "name": "c"
  },
  "language_info": {
   "file_extension": ".c",
   "mimetype": "text/x-csrc",
   "name": "text/x-csrc"
  }
 },
 "nbformat": 4,
 "nbformat_minor": 5
}
